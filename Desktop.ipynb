{
 "cells": [
  {
   "cell_type": "code",
   "execution_count": 46,
   "id": "70df974b",
   "metadata": {},
   "outputs": [
    {
     "name": "stdout",
     "output_type": "stream",
     "text": [
      "60\n"
     ]
    }
   ],
   "source": [
    "#Question 1\n",
    "list=[5,3,2,2]\n",
    "list1=list[0]\n",
    "for i in range(1,len(list)):\n",
    "    list1=list[i]*list1\n",
    "print(list1)"
   ]
  },
  {
   "cell_type": "code",
   "execution_count": 41,
   "id": "5517d763",
   "metadata": {},
   "outputs": [
    {
     "name": "stdout",
     "output_type": "stream",
     "text": [
      "[40, 11, [23, 20], 6, 1]\n"
     ]
    }
   ],
   "source": [
    "#Question 2\n",
    "L=[40,11,40,[23,20],40,6,[23,20],1]\n",
    "L1=[]\n",
    "for i in range(len(L)):\n",
    "    if L[i] not in L1:\n",
    "        L1.append(L[i])\n",
    "print(L1)"
   ]
  },
  {
   "cell_type": "code",
   "execution_count": 34,
   "id": "087f0dc2",
   "metadata": {},
   "outputs": [
    {
     "name": "stdout",
     "output_type": "stream",
     "text": [
      "{'a': 400, 'b': 400, 'c': 300, 'd': 400}\n"
     ]
    }
   ],
   "source": [
    "#Question 3\n",
    "d1 = {'a': 100, 'b': 200, 'c':300}\n",
    "d2 = {'a': 300, 'b': 200, 'd':400}\n",
    "d3 = {'a':d1['a']+d2['a'], 'b':d1['b']+d2['b'], 'c':d1['c'], 'd':d2['d']}\n",
    "print(d3)"
   ]
  },
  {
   "cell_type": "code",
   "execution_count": 37,
   "id": "c913f7f4",
   "metadata": {
    "scrolled": true
   },
   "outputs": [
    {
     "name": "stdout",
     "output_type": "stream",
     "text": [
      "Give a number: 5\n",
      "{1: 1, 2: 4, 3: 9, 4: 16, 5: 25}\n"
     ]
    }
   ],
   "source": [
    "#Question 4\n",
    "di={}\n",
    "x=int(input('Give a number: '))\n",
    "for i in range(1,x+1):\n",
    "    di[i]=i*i\n",
    "print(di)"
   ]
  },
  {
   "cell_type": "code",
   "execution_count": 10,
   "id": "9af1b174",
   "metadata": {},
   "outputs": [
    {
     "name": "stdout",
     "output_type": "stream",
     "text": [
      "{6: 2, 3: 1, 9: 2, 1: 3, 0: 1}\n"
     ]
    }
   ],
   "source": [
    "#Question 5\n",
    "F=[6,3,9,1,6,9,1,0,1]\n",
    "da={}\n",
    "for i in range(len(F)):\n",
    "    key = F[i]\n",
    "    value = F.count(F[i])\n",
    "    da[key] = value\n",
    "print(da)"
   ]
  },
  {
   "cell_type": "code",
   "execution_count": null,
   "id": "0de79420",
   "metadata": {},
   "outputs": [],
   "source": []
  }
 ],
 "metadata": {
  "kernelspec": {
   "display_name": "Python 3",
   "language": "python",
   "name": "python3"
  },
  "language_info": {
   "codemirror_mode": {
    "name": "ipython",
    "version": 3
   },
   "file_extension": ".py",
   "mimetype": "text/x-python",
   "name": "python",
   "nbconvert_exporter": "python",
   "pygments_lexer": "ipython3",
   "version": "3.8.8"
  }
 },
 "nbformat": 4,
 "nbformat_minor": 5
}
